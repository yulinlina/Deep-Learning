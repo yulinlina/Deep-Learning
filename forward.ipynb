{
 "cells": [
  {
   "cell_type": "code",
   "execution_count": 38,
   "metadata": {},
   "outputs": [],
   "source": [
    "import numpy as np\n",
    "\n",
    "w_1 = np.array([[2,2,-1],\n",
    "                [-1,-1,1.5]])\n",
    "w_2 = np.array([1,1,-1.5])\n",
    "\n",
    "W_list =[w_1,w_2]\n",
    "a =np.array([0,1])\n"
   ]
  },
  {
   "cell_type": "code",
   "execution_count": 39,
   "metadata": {},
   "outputs": [],
   "source": [
    "def f(z):\n",
    "    return int(z>=0)\n",
    "\n",
    "def linear_layer(w,a):\n",
    "    \"\"\"\n",
    "    给输入增加偏移b,进行每一层的计算\n",
    "    \"\"\"\n",
    "    a= np.append(a,1)  \n",
    "    z = w@a.T\n",
    "    f_vec = np.vectorize(f)\n",
    "    return f_vec(z)\n"
   ]
  },
  {
   "cell_type": "code",
   "execution_count": 40,
   "metadata": {},
   "outputs": [
    {
     "name": "stdout",
     "output_type": "stream",
     "text": [
      "1\n"
     ]
    }
   ],
   "source": [
    "for w in W_list:\n",
    "    a = linear_layer(w,a)\n",
    "print(a)"
   ]
  }
 ],
 "metadata": {
  "kernelspec": {
   "display_name": "Python 3.8.8 ('base')",
   "language": "python",
   "name": "python3"
  },
  "language_info": {
   "codemirror_mode": {
    "name": "ipython",
    "version": 3
   },
   "file_extension": ".py",
   "mimetype": "text/x-python",
   "name": "python",
   "nbconvert_exporter": "python",
   "pygments_lexer": "ipython3",
   "version": "3.8.8"
  },
  "orig_nbformat": 4,
  "vscode": {
   "interpreter": {
    "hash": "b09ec625f77bf4fd762565a912b97636504ad6ec901eb2d0f4cf5a7de23e1ee5"
   }
  }
 },
 "nbformat": 4,
 "nbformat_minor": 2
}
